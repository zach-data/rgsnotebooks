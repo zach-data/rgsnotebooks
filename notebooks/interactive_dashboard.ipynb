{
 "cells": [
  {
   "cell_type": "markdown",
   "metadata": {},
   "source": [
    "# Example of powering an interactive dashboard via Redshift"
   ]
  },
  {
   "cell_type": "code",
   "execution_count": 7,
   "metadata": {},
   "outputs": [],
   "source": [
    "# Imports\n",
    "import dash\n",
    "import dash_core_components as dcc\n",
    "import dash_html_components as html\n",
    "\n",
    "import calendar\n",
    "import pandas as pd\n",
    "import numpy as np"
   ]
  },
  {
   "cell_type": "code",
   "execution_count": 8,
   "metadata": {},
   "outputs": [],
   "source": [
    "# Build AppViewer \n",
    "from jupyterlab_dash import AppViewer\n",
    "viewer = AppViewer()"
   ]
  },
  {
   "cell_type": "code",
   "execution_count": 9,
   "metadata": {},
   "outputs": [],
   "source": [
    "# Local test - set up connection\n",
    "%run ./db_common_local.py\n",
    "\n",
    "conn = default_conn"
   ]
  },
  {
   "cell_type": "code",
   "execution_count": null,
   "metadata": {},
   "outputs": [],
   "source": [
    "# Sagemaker notebook env\n",
    "%run ./db_common.py\n",
    "\n",
    "conn = default_conn"
   ]
  },
  {
   "cell_type": "markdown",
   "metadata": {},
   "source": [
    "## Visual for TPCDS Query 21\n",
    "For all items whose price was changed on a given date, compute the percentage change in inventory \n",
    "between the 30-day period BEFORE the price change and the 30-day period AFTER the change.\n"
   ]
  },
  {
   "cell_type": "code",
   "execution_count": 10,
   "metadata": {},
   "outputs": [],
   "source": [
    "query_stmt = '''\n",
    "select  *\n",
    " from(select w_warehouse_name\n",
    "            ,i_item_id\n",
    "            ,i_current_price\n",
    "            ,sum(case when (cast(d_date as date) < cast ('2001-%s-11' as date))\n",
    "                  then inv_quantity_on_hand \n",
    "                      else 0 end) as inv_before\n",
    "            ,sum(case when (cast(d_date as date) >= cast ('2001-%s-11' as date))\n",
    "                      then inv_quantity_on_hand \n",
    "                      else 0 end) as inv_after\n",
    "   from inventory\n",
    "       ,warehouse\n",
    "       ,item\n",
    "       ,date_dim\n",
    "   where i_current_price between 0.50 and 1.49\n",
    "     and i_item_sk          = inv_item_sk\n",
    "      %s\n",
    "     and inv_warehouse_sk   = w_warehouse_sk\n",
    "     and inv_date_sk    = d_date_sk\n",
    "     and d_date between dateadd(day, -30, '2001-%s-11') \n",
    "                    and dateadd(day, 30, '2001-%s-11')\n",
    "   group by w_warehouse_name, i_item_id,i_current_price) x\n",
    " where (case when inv_before > 0 \n",
    "             then inv_after / inv_before \n",
    "             else null\n",
    "             end) between 2.0/3.0 and 3.0/2.0\n",
    " order by w_warehouse_name\n",
    "         ,i_item_id        \n",
    " limit 100;\n",
    "'''\n"
   ]
  },
  {
   "cell_type": "code",
   "execution_count": 11,
   "metadata": {},
   "outputs": [
    {
     "name": "stdout",
     "output_type": "stream",
     "text": [
      "Escaped time: 0 seconds\n",
      "Escaped time: 0 seconds, \tReturned rows: 14\n"
     ]
    }
   ],
   "source": [
    "# Initialize\n",
    "dataset = 'tpcds_100gb'\n",
    "\n",
    "search_path = 'set search_path to %s;' % dataset\n",
    "exec_dml(conn, search_path)\n",
    "\n",
    "df = exec_query(conn, 'select distinct(w_warehouse_name) from warehouse where len(w_warehouse_name) > 0 order by 1;')\n",
    "available_items = df['w_warehouse_name'].unique()\n",
    "available_items = np.insert(available_items, 0, 'ALL')\n",
    "\n",
    "initial_month = '4'\n",
    "initial_item = 'Conventional childr'\n"
   ]
  },
  {
   "cell_type": "markdown",
   "metadata": {},
   "source": [
    "## Interactive dashboard\n",
    "- Select a different warehouse\n",
    "- Or slide to choose another month"
   ]
  },
  {
   "cell_type": "code",
   "execution_count": 12,
   "metadata": {},
   "outputs": [],
   "source": [
    "\n",
    "app = dash.Dash(\"Redshift dashboard\")\n",
    "\n",
    "app.layout = html.Div([\n",
    "    html.Div([\n",
    "        html.Div([\n",
    "            html.Div(children='Warehouses: '),\n",
    "            dcc.Dropdown(\n",
    "                    id='input_item',\n",
    "                    options=[{'label': i, 'value': i} for i in available_items],\n",
    "                    value='ALL'\n",
    "                )\n",
    "        ],\n",
    "        style={'width': '40%', 'display': 'inline-block'}),\n",
    "        html.Div([\n",
    "            html.Div(children='Slide to choose another month: '),\n",
    "            dcc.Slider(id='input_month', value=int(initial_month), min=1, max=12, step=1,\n",
    "                   marks={\n",
    "                            1: {'label': 'Jan'},\n",
    "                            2: {'label': 'Feb'},\n",
    "                            3: {'label': 'Mar'},\n",
    "                            4: {'label': 'Apr'},\n",
    "                            5: {'label': 'May'},\n",
    "                            6: {'label': 'Jun'},\n",
    "                            7: {'label': 'Jul'},\n",
    "                            8: {'label': 'Aug'},\n",
    "                            9: {'label': 'Sept'},\n",
    "                            10: {'label': 'Oct'},\n",
    "                            11: {'label': 'Nov'},\n",
    "                            12: {'label': 'Dec'}\n",
    "                        }\n",
    "                )\n",
    "        ], style={'width': '80%', 'display': 'inline-block'})\n",
    "    ]),\n",
    "    html.Div(children='_ '),\n",
    "\n",
    "    html.Div([\n",
    "        dcc.Graph(id='output-graph')\n",
    "    ], style={'width': '80%', 'display': 'inline-block'})    \n",
    "])\n",
    "\n",
    "@app.callback(\n",
    "    dash.dependencies.Output('output-graph', 'figure'),\n",
    "    [dash.dependencies.Input('input_month', 'value'),\n",
    "     dash.dependencies.Input('input_item', 'value')]\n",
    ")\n",
    "\n",
    "def update_graph(input_month, input_item):\n",
    "    if input_item == 'ALL':\n",
    "        input_item = ''\n",
    "    else:\n",
    "        input_item = ''' and w_warehouse_name = '%s' ''' % input_item\n",
    "    query = query_stmt % (input_month,input_month,input_item,input_month,input_month)\n",
    "    query = query.replace('\\n', ' ').replace('\\r', '')\n",
    "    df_result = exec_query(conn, query)\n",
    "\n",
    "    return {\n",
    "            'data' : [\n",
    "                {'x' : df_result.i_item_id, 'y' : df_result.inv_before, 'type' : 'bar', 'name' : 'inventory before'},\n",
    "                {'x' : df_result.i_item_id, 'y' : df_result.inv_after, 'type' : 'line', 'name' : 'inventory after'},\n",
    "            ],\n",
    "            'layout' : {\n",
    "                'title' : 'Inventory change in %s' % calendar.month_name[input_month]\n",
    "            }\n",
    "        }\n",
    "\n",
    "viewer.show(app)"
   ]
  },
  {
   "cell_type": "code",
   "execution_count": null,
   "metadata": {},
   "outputs": [],
   "source": []
  }
 ],
 "metadata": {
  "kernelspec": {
   "display_name": "Python 3",
   "language": "python",
   "name": "python3"
  },
  "language_info": {
   "codemirror_mode": {
    "name": "ipython",
    "version": 3
   },
   "file_extension": ".py",
   "mimetype": "text/x-python",
   "name": "python",
   "nbconvert_exporter": "python",
   "pygments_lexer": "ipython3",
   "version": "3.7.0"
  }
 },
 "nbformat": 4,
 "nbformat_minor": 4
}
