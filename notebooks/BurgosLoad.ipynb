{
 "cells": [
  {
   "cell_type": "code",
   "execution_count": 3,
   "metadata": {},
   "outputs": [
    {
     "name": "stdout",
     "output_type": "stream",
     "text": [
      "remote: Enumerating objects: 9, done.\u001b[K\n",
      "remote: Counting objects: 100% (9/9), done.\u001b[K\n",
      "remote: Compressing objects: 100% (1/1), done.\u001b[K\n",
      "remote: Total 5 (delta 4), reused 5 (delta 4), pack-reused 0\u001b[K\n",
      "Unpacking objects: 100% (5/5), done.\n",
      "From https://github.com/zach-data/burgos\n",
      "   0555fd7..5fbd382  development -> origin/development\n",
      "Updating 0555fd7..5fbd382\n",
      "Fast-forward\n",
      " burgos/db/_clients.py | 15 \u001b[32m++++++++\u001b[m\u001b[31m-------\u001b[m\n",
      " 1 file changed, 8 insertions(+), 7 deletions(-)\n",
      "Obtaining file:///home/ec2-user/SageMaker/burgos\n",
      "Installing collected packages: burgos\n",
      "  Found existing installation: burgos 0.0.4\n",
      "    Uninstalling burgos-0.0.4:\n",
      "      Successfully uninstalled burgos-0.0.4\n",
      "  Running setup.py develop for burgos\n",
      "Successfully installed burgos\n"
     ]
    }
   ],
   "source": [
    "!git -C /home/ec2-user/SageMaker/burgos pull\n",
    "!/home/ec2-user/SageMaker/rgs/miniconda/envs/rgsutils/bin/pip install -e /home/ec2-user/SageMaker/burgos --upgrade"
   ]
  },
  {
   "cell_type": "code",
   "execution_count": 2,
   "metadata": {},
   "outputs": [
    {
     "name": "stdout",
     "output_type": "stream",
     "text": [
      "0.0.4\n"
     ]
    }
   ],
   "source": [
    "import burgos\n",
    "print(burgos.__version__)\n",
    "context = burgos.ConfigurationManager()\n",
    "redshift = burgos.RedshiftManager(context)"
   ]
  },
  {
   "cell_type": "code",
   "execution_count": 3,
   "metadata": {},
   "outputs": [
    {
     "name": "stdout",
     "output_type": "stream",
     "text": [
      "\n",
      "        COPY nation \n",
      "        FROM 's3://redshift-managed-loads-datasets-us-east-1/dataset=tpch/size=10GB/table=nation/nation.manifest' \n",
      "        iam_role 'arn:aws:iam::029328890439:role/rgs-5d224842-IamRoleStack-17AR6NN4I0B-RedshiftRole-TLNR44OVSWTQ' \n",
      "        gzip \n",
      "        delimiter '|' \n",
      "        COMPUPDATE OFF \n",
      "        MANIFEST\n",
      "    \n",
      "Row(tablename='\"tpch_10gb\".\"nation\"', rows=50)\n",
      "Row(tablename='\"tpch_10gb\".\"nation\"', rows=280)\n"
     ]
    }
   ],
   "source": [
    "redshift.load_table('tpch','10gb','nation')"
   ]
  },
  {
   "cell_type": "code",
   "execution_count": 10,
   "metadata": {},
   "outputs": [
    {
     "name": "stdout",
     "output_type": "stream",
     "text": [
      "['arn', 'aws', 'sagemaker', 'us-east-1', '029328890439', 'notebook-instance/rgs-5d224842-notebook']\n"
     ]
    }
   ],
   "source": [
    "tables = ['nation', 'region', 'part', 'supplier', 'partsupp', 'customer', 'orders', 'lineitem']\n",
    "for table in tables:\n",
    "redshift.load_table('tpch','1tb','nation')"
   ]
  },
  {
   "cell_type": "code",
   "execution_count": 16,
   "metadata": {},
   "outputs": [
    {
     "data": {
      "text/plain": [
       "'rgs-5d224842'"
      ]
     },
     "execution_count": 16,
     "metadata": {},
     "output_type": "execute_result"
    }
   ],
   "source": []
  }
 ],
 "metadata": {
  "kernelspec": {
   "display_name": "conda_rgsutils",
   "language": "python",
   "name": "conda_rgsutils"
  },
  "language_info": {
   "codemirror_mode": {
    "name": "ipython",
    "version": 3
   },
   "file_extension": ".py",
   "mimetype": "text/x-python",
   "name": "python",
   "nbconvert_exporter": "python",
   "pygments_lexer": "ipython3",
   "version": "3.7.3"
  }
 },
 "nbformat": 4,
 "nbformat_minor": 4
}
