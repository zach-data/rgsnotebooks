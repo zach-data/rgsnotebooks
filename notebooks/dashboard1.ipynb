{
 "cells": [
  {
   "cell_type": "markdown",
   "metadata": {},
   "source": [
    "# Example of powering an interactive dashboard via Redshift"
   ]
  },
  {
   "cell_type": "code",
   "execution_count": 1,
   "metadata": {},
   "outputs": [],
   "source": [
    "# Imports\n",
    "import dash\n",
    "import dash_core_components as dcc\n",
    "import dash_html_components as html\n",
    "import plotly.graph_objs as go\n",
    "\n",
    "import calendar\n",
    "import pandas as pd\n",
    "import numpy as np"
   ]
  },
  {
   "cell_type": "code",
   "execution_count": 2,
   "metadata": {},
   "outputs": [],
   "source": [
    "# Build AppViewer \n",
    "from jupyterlab_dash import AppViewer\n",
    "viewer = AppViewer()"
   ]
  },
  {
   "cell_type": "code",
   "execution_count": 3,
   "metadata": {},
   "outputs": [],
   "source": [
    "# Local test - set up connection\n",
    "%run ./db_common_local.py\n",
    "\n",
    "conn = default_conn"
   ]
  },
  {
   "cell_type": "code",
   "execution_count": null,
   "metadata": {},
   "outputs": [],
   "source": [
    "# Sagemaker notebook env\n",
    "%run ./db_common.py\n",
    "\n",
    "conn = default_conn"
   ]
  },
  {
   "cell_type": "code",
   "execution_count": 4,
   "metadata": {},
   "outputs": [
    {
     "name": "stdout",
     "output_type": "stream",
     "text": [
      "Escaped time: 0 seconds\n"
     ]
    }
   ],
   "source": [
    "# Initialize\n",
    "query_stmt1 = '''\n",
    "    select  ca_state,\n",
    "       count(distinct ws_order_number) as \"order_count\"\n",
    "      ,avg(ws_ext_ship_cost) as \"avg_shipping_cost\"\n",
    "      ,avg(ws_net_profit) as \"avg_net_profit\"\n",
    "    from\n",
    "       web_sales cs1\n",
    "      ,date_dim\n",
    "      ,customer_address\n",
    "    where\n",
    "        d_year = %s\n",
    "    and cs1.ws_ship_date_sk = d_date_sk\n",
    "    and cs1.ws_ship_addr_sk = ca_address_sk\n",
    "    and cs1.ws_order_number not in (select wr_order_number\n",
    "               from web_returns cr1)\n",
    "    group by 1\n",
    "    order by 2 desc;\n",
    "'''\n",
    "\n",
    "dataset = 'tpcds_100gb'\n",
    "\n",
    "search_path = 'set search_path to %s;' % dataset\n",
    "exec_dml(conn, search_path)\n",
    "\n",
    "available_years = np.array([1998,1999,2000,2001,2002])\n"
   ]
  },
  {
   "cell_type": "code",
   "execution_count": 5,
   "metadata": {},
   "outputs": [],
   "source": [
    "\n",
    "app = dash.Dash(\"Redshift dashboard\")\n",
    "app.layout = html.Div(id='my-div', children=[\n",
    "        html.Div([\n",
    "            html.Div(children='Year: '),\n",
    "            dcc.Dropdown(\n",
    "                    id='input_year',\n",
    "                    options=[{'label': i, 'value': i} for i in available_years],\n",
    "                    value='1998'\n",
    "                )\n",
    "        ],\n",
    "        style={'width': '90%', 'display': 'inline-block'}),\n",
    "        dcc.Graph(\n",
    "            id='my-graph-id',\n",
    "            figure=dict(\n",
    "                data=[],\n",
    "                layout={},\n",
    "            ),\n",
    "        )\n",
    "    ])\n",
    "\n",
    "@app.callback(\n",
    "    dash.dependencies.Output('my-graph-id', 'figure'),\n",
    "    [dash.dependencies.Input('input_year', 'value')]\n",
    ")\n",
    "\n",
    "def update_graph(input_year):\n",
    "    query = query_stmt1 % input_year\n",
    "    query = query.replace('\\n', ' ').replace('\\r', '')\n",
    "    df = exec_query(conn, query)\n",
    "    # convert everything to string for display purpose\n",
    "    for col in df.columns: \n",
    "        df[col] = df[col].astype(str)\n",
    "\n",
    "    df['text'] = 'order ' + df['order_count'] + '<br>' + \\\n",
    "                'average shipping cost ' + df['avg_shipping_cost'] + '<br>' + \\\n",
    "                'average net profit ' + df['avg_net_profit']\n",
    "\n",
    "    fig = go.Figure(data=go.Choropleth(\n",
    "        locations=df['ca_state'], # Spatial coordinates\n",
    "        z = df['order_count'].astype(float), # Data to be color-coded\n",
    "        locationmode = 'USA-states', # set of locations match entries in `locations`\n",
    "        text = df['text'],\n",
    "        colorscale = 'Reds',\n",
    "        colorbar_title = \"Total orders\",\n",
    "    ))\n",
    "\n",
    "    fig.update_layout(\n",
    "        title_text = 'US Shipping cost and profit by State',\n",
    "        geo_scope='usa', # limite map scope to USA\n",
    "    )\n",
    "    return fig\n",
    "    \n",
    "viewer.show(app)"
   ]
  },
  {
   "cell_type": "code",
   "execution_count": null,
   "metadata": {},
   "outputs": [],
   "source": []
  }
 ],
 "metadata": {
  "kernelspec": {
   "display_name": "Python 3",
   "language": "python",
   "name": "python3"
  },
  "language_info": {
   "codemirror_mode": {
    "name": "ipython",
    "version": 3
   },
   "file_extension": ".py",
   "mimetype": "text/x-python",
   "name": "python",
   "nbconvert_exporter": "python",
   "pygments_lexer": "ipython3",
   "version": "3.7.0"
  }
 },
 "nbformat": 4,
 "nbformat_minor": 4
}
