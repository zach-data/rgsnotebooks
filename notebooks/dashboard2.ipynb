{
 "cells": [
  {
   "cell_type": "markdown",
   "metadata": {},
   "source": [
    "# Simple Dashboard demo"
   ]
  },
  {
   "cell_type": "code",
   "execution_count": 1,
   "metadata": {},
   "outputs": [],
   "source": [
    "import dash\n",
    "import pandas as pd\n",
    "import jupyterlab_dash\n",
    "import plotly\n",
    "import plotly.graph_objs as go\n",
    "import chart_studio.plotly as py\n",
    "\n",
    "import dash_core_components as dcc\n",
    "import dash_html_components as html\n",
    "import numpy as np"
   ]
  },
  {
   "cell_type": "code",
   "execution_count": 2,
   "metadata": {},
   "outputs": [],
   "source": [
    "# Local test - set up connection\n",
    "%run ./db_common_local.py\n",
    "\n",
    "conn = default_conn"
   ]
  },
  {
   "cell_type": "code",
   "execution_count": null,
   "metadata": {},
   "outputs": [],
   "source": [
    "# Sagemaker notebook env\n",
    "%run ./db_common.py\n",
    "\n",
    "conn = default_conn"
   ]
  },
  {
   "cell_type": "markdown",
   "metadata": {},
   "source": [
    "## TPCDS Query16\n",
    "Report number of orders, total shipping costs and profits from web sales of particular counties and states for a given 60 day period for non-returned sales filled from an alternate warehouse."
   ]
  },
  {
   "cell_type": "code",
   "execution_count": 3,
   "metadata": {},
   "outputs": [
    {
     "data": {
      "text/html": [
       "        <script type=\"text/javascript\">\n",
       "        window.PlotlyConfig = {MathJaxConfig: 'local'};\n",
       "        if (window.MathJax) {MathJax.Hub.Config({SVG: {font: \"STIX-Web\"}});}\n",
       "        if (typeof require !== 'undefined') {\n",
       "        require.undef(\"plotly\");\n",
       "        requirejs.config({\n",
       "            paths: {\n",
       "                'plotly': ['https://cdn.plot.ly/plotly-latest.min']\n",
       "            }\n",
       "        });\n",
       "        require(['plotly'], function(Plotly) {\n",
       "            window._Plotly = Plotly;\n",
       "        });\n",
       "        }\n",
       "        </script>\n",
       "        "
      ]
     },
     "metadata": {},
     "output_type": "display_data"
    },
    {
     "name": "stdout",
     "output_type": "stream",
     "text": [
      "Escaped time: 0 seconds\n"
     ]
    },
    {
     "data": {
      "text/plain": [
       "0.42125415802001953"
      ]
     },
     "execution_count": 3,
     "metadata": {},
     "output_type": "execute_result"
    }
   ],
   "source": [
    "query_stmt = '''\n",
    "select  ca_state,\n",
    "   count(distinct ws_order_number) as \"order_count\"\n",
    "  ,avg(ws_ext_ship_cost) as \"avg_shipping_cost\"\n",
    "  ,avg(ws_net_profit) as \"avg_net_profit\"\n",
    "from\n",
    "   web_sales cs1\n",
    "  ,date_dim\n",
    "  ,customer_address\n",
    "where\n",
    "    d_year = 2000\n",
    "and cs1.ws_ship_date_sk = d_date_sk\n",
    "and cs1.ws_ship_addr_sk = ca_address_sk\n",
    "and cs1.ws_order_number not in (select wr_order_number\n",
    "           from web_returns cr1)\n",
    "group by 1\n",
    "order by 2 desc;\n",
    "'''\n",
    "\n",
    "# Initialize\n",
    "dataset = 'tpcds_100gb'\n",
    "plotly.offline.init_notebook_mode(connected=True)\n",
    "\n",
    "search_path = 'set search_path to %s;' % dataset\n",
    "exec_dml(conn, search_path)"
   ]
  },
  {
   "cell_type": "code",
   "execution_count": 4,
   "metadata": {},
   "outputs": [
    {
     "name": "stdout",
     "output_type": "stream",
     "text": [
      "Escaped time: 0 seconds, \tReturned rows: 52\n"
     ]
    },
    {
     "data": {
      "application/vnd.plotly.v1+json": {
       "config": {
        "plotlyServerURL": "https://plot.ly"
       },
       "data": [
        {
         "colorbar": {
          "title": {
           "text": "Total orders"
          }
         },
         "colorscale": [
          [
           0,
           "rgb(255,245,240)"
          ],
          [
           0.125,
           "rgb(254,224,210)"
          ],
          [
           0.25,
           "rgb(252,187,161)"
          ],
          [
           0.375,
           "rgb(252,146,114)"
          ],
          [
           0.5,
           "rgb(251,106,74)"
          ],
          [
           0.625,
           "rgb(239,59,44)"
          ],
          [
           0.75,
           "rgb(203,24,29)"
          ],
          [
           0.875,
           "rgb(165,15,21)"
          ],
          [
           1,
           "rgb(103,0,13)"
          ]
         ],
         "locationmode": "USA-states",
         "locations": [
          "TX",
          "GA",
          "VA",
          "KY",
          "MO",
          "KS",
          "NC",
          "IL",
          "IA",
          "  ",
          "TN",
          "NE",
          "IN",
          "OH",
          "MN",
          "MS",
          "MI",
          "OK",
          "AR",
          "WI",
          "AL",
          "PA",
          "SD",
          "FL",
          "CO",
          "NY",
          "CA",
          "LA",
          "WV",
          "MT",
          "ND",
          "SC",
          "ID",
          "WA",
          "OR",
          "NM",
          "UT",
          "WY",
          "AK",
          "MD",
          "NJ",
          "NV",
          "ME",
          "MA",
          "AZ",
          "VT",
          "NH",
          "CT",
          "RI",
          "HI",
          "DE",
          "DC"
         ],
         "text": [
          "order 40913<br>average shipping cost 1270.73<br>average net profit -257.39",
          "order 25303<br>average shipping cost 1271.11<br>average net profit -254.08",
          "order 21812<br>average shipping cost 1282.16<br>average net profit -257.15",
          "order 19090<br>average shipping cost 1273.33<br>average net profit -257.35",
          "order 17301<br>average shipping cost 1273.01<br>average net profit -262.13",
          "order 16708<br>average shipping cost 1267.59<br>average net profit -244.76",
          "order 16221<br>average shipping cost 1271.39<br>average net profit -251.71",
          "order 16041<br>average shipping cost 1276.88<br>average net profit -255.65",
          "order 15608<br>average shipping cost 1276.67<br>average net profit -254.91",
          "order 15505<br>average shipping cost 1267.03<br>average net profit -253.48",
          "order 15253<br>average shipping cost 1277.26<br>average net profit -266.82",
          "order 14824<br>average shipping cost 1281.9<br>average net profit -246.06",
          "order 14483<br>average shipping cost 1269.37<br>average net profit -260.26",
          "order 13926<br>average shipping cost 1277.24<br>average net profit -259.6",
          "order 13703<br>average shipping cost 1283.61<br>average net profit -261.6",
          "order 13357<br>average shipping cost 1267.92<br>average net profit -260.37",
          "order 12945<br>average shipping cost 1274.15<br>average net profit -250.2",
          "order 12317<br>average shipping cost 1278.25<br>average net profit -250.76",
          "order 11703<br>average shipping cost 1278.21<br>average net profit -257.33",
          "order 11219<br>average shipping cost 1265.71<br>average net profit -253.65",
          "order 10546<br>average shipping cost 1278.65<br>average net profit -265.36",
          "order 10537<br>average shipping cost 1278.44<br>average net profit -262.76",
          "order 10379<br>average shipping cost 1282.12<br>average net profit -265.09",
          "order 10329<br>average shipping cost 1276.86<br>average net profit -244.25",
          "order 9938<br>average shipping cost 1283.59<br>average net profit -258.83",
          "order 9688<br>average shipping cost 1278.73<br>average net profit -269.03",
          "order 9225<br>average shipping cost 1273.16<br>average net profit -264.18",
          "order 8777<br>average shipping cost 1264.16<br>average net profit -260.13",
          "order 8771<br>average shipping cost 1279.65<br>average net profit -258.85",
          "order 8720<br>average shipping cost 1277.9<br>average net profit -250.89",
          "order 8492<br>average shipping cost 1273.63<br>average net profit -244.6",
          "order 7279<br>average shipping cost 1274.8<br>average net profit -259.33",
          "order 6938<br>average shipping cost 1268.95<br>average net profit -259.93",
          "order 6221<br>average shipping cost 1272.52<br>average net profit -256.07",
          "order 5657<br>average shipping cost 1284.01<br>average net profit -254.29",
          "order 5219<br>average shipping cost 1280.12<br>average net profit -245.12",
          "order 4670<br>average shipping cost 1278.88<br>average net profit -261.89",
          "order 3764<br>average shipping cost 1279.9<br>average net profit -254.06",
          "order 3602<br>average shipping cost 1278.1<br>average net profit -268.63",
          "order 3572<br>average shipping cost 1286.23<br>average net profit -272.72",
          "order 3334<br>average shipping cost 1274.68<br>average net profit -251.76",
          "order 2816<br>average shipping cost 1285.95<br>average net profit -260.05",
          "order 2578<br>average shipping cost 1263.71<br>average net profit -318.11",
          "order 2261<br>average shipping cost 1276.14<br>average net profit -242.9",
          "order 2247<br>average shipping cost 1278.79<br>average net profit -265.1",
          "order 2158<br>average shipping cost 1294.32<br>average net profit -243.83",
          "order 1605<br>average shipping cost 1280.16<br>average net profit -281.74",
          "order 1283<br>average shipping cost 1266.55<br>average net profit -258.24",
          "order 847<br>average shipping cost 1246.14<br>average net profit -244.32",
          "order 666<br>average shipping cost 1265.22<br>average net profit -313.44",
          "order 484<br>average shipping cost 1277.93<br>average net profit -323.78",
          "order 170<br>average shipping cost 1342.21<br>average net profit -208.39"
         ],
         "type": "choropleth",
         "z": [
          40913,
          25303,
          21812,
          19090,
          17301,
          16708,
          16221,
          16041,
          15608,
          15505,
          15253,
          14824,
          14483,
          13926,
          13703,
          13357,
          12945,
          12317,
          11703,
          11219,
          10546,
          10537,
          10379,
          10329,
          9938,
          9688,
          9225,
          8777,
          8771,
          8720,
          8492,
          7279,
          6938,
          6221,
          5657,
          5219,
          4670,
          3764,
          3602,
          3572,
          3334,
          2816,
          2578,
          2261,
          2247,
          2158,
          1605,
          1283,
          847,
          666,
          484,
          170
         ]
        }
       ],
       "layout": {
        "geo": {
         "scope": "usa"
        },
        "template": {
         "data": {
          "bar": [
           {
            "error_x": {
             "color": "#2a3f5f"
            },
            "error_y": {
             "color": "#2a3f5f"
            },
            "marker": {
             "line": {
              "color": "#E5ECF6",
              "width": 0.5
             }
            },
            "type": "bar"
           }
          ],
          "barpolar": [
           {
            "marker": {
             "line": {
              "color": "#E5ECF6",
              "width": 0.5
             }
            },
            "type": "barpolar"
           }
          ],
          "carpet": [
           {
            "aaxis": {
             "endlinecolor": "#2a3f5f",
             "gridcolor": "white",
             "linecolor": "white",
             "minorgridcolor": "white",
             "startlinecolor": "#2a3f5f"
            },
            "baxis": {
             "endlinecolor": "#2a3f5f",
             "gridcolor": "white",
             "linecolor": "white",
             "minorgridcolor": "white",
             "startlinecolor": "#2a3f5f"
            },
            "type": "carpet"
           }
          ],
          "choropleth": [
           {
            "colorbar": {
             "outlinewidth": 0,
             "ticks": ""
            },
            "type": "choropleth"
           }
          ],
          "contour": [
           {
            "colorbar": {
             "outlinewidth": 0,
             "ticks": ""
            },
            "colorscale": [
             [
              0,
              "#0d0887"
             ],
             [
              0.1111111111111111,
              "#46039f"
             ],
             [
              0.2222222222222222,
              "#7201a8"
             ],
             [
              0.3333333333333333,
              "#9c179e"
             ],
             [
              0.4444444444444444,
              "#bd3786"
             ],
             [
              0.5555555555555556,
              "#d8576b"
             ],
             [
              0.6666666666666666,
              "#ed7953"
             ],
             [
              0.7777777777777778,
              "#fb9f3a"
             ],
             [
              0.8888888888888888,
              "#fdca26"
             ],
             [
              1,
              "#f0f921"
             ]
            ],
            "type": "contour"
           }
          ],
          "contourcarpet": [
           {
            "colorbar": {
             "outlinewidth": 0,
             "ticks": ""
            },
            "type": "contourcarpet"
           }
          ],
          "heatmap": [
           {
            "colorbar": {
             "outlinewidth": 0,
             "ticks": ""
            },
            "colorscale": [
             [
              0,
              "#0d0887"
             ],
             [
              0.1111111111111111,
              "#46039f"
             ],
             [
              0.2222222222222222,
              "#7201a8"
             ],
             [
              0.3333333333333333,
              "#9c179e"
             ],
             [
              0.4444444444444444,
              "#bd3786"
             ],
             [
              0.5555555555555556,
              "#d8576b"
             ],
             [
              0.6666666666666666,
              "#ed7953"
             ],
             [
              0.7777777777777778,
              "#fb9f3a"
             ],
             [
              0.8888888888888888,
              "#fdca26"
             ],
             [
              1,
              "#f0f921"
             ]
            ],
            "type": "heatmap"
           }
          ],
          "heatmapgl": [
           {
            "colorbar": {
             "outlinewidth": 0,
             "ticks": ""
            },
            "colorscale": [
             [
              0,
              "#0d0887"
             ],
             [
              0.1111111111111111,
              "#46039f"
             ],
             [
              0.2222222222222222,
              "#7201a8"
             ],
             [
              0.3333333333333333,
              "#9c179e"
             ],
             [
              0.4444444444444444,
              "#bd3786"
             ],
             [
              0.5555555555555556,
              "#d8576b"
             ],
             [
              0.6666666666666666,
              "#ed7953"
             ],
             [
              0.7777777777777778,
              "#fb9f3a"
             ],
             [
              0.8888888888888888,
              "#fdca26"
             ],
             [
              1,
              "#f0f921"
             ]
            ],
            "type": "heatmapgl"
           }
          ],
          "histogram": [
           {
            "marker": {
             "colorbar": {
              "outlinewidth": 0,
              "ticks": ""
             }
            },
            "type": "histogram"
           }
          ],
          "histogram2d": [
           {
            "colorbar": {
             "outlinewidth": 0,
             "ticks": ""
            },
            "colorscale": [
             [
              0,
              "#0d0887"
             ],
             [
              0.1111111111111111,
              "#46039f"
             ],
             [
              0.2222222222222222,
              "#7201a8"
             ],
             [
              0.3333333333333333,
              "#9c179e"
             ],
             [
              0.4444444444444444,
              "#bd3786"
             ],
             [
              0.5555555555555556,
              "#d8576b"
             ],
             [
              0.6666666666666666,
              "#ed7953"
             ],
             [
              0.7777777777777778,
              "#fb9f3a"
             ],
             [
              0.8888888888888888,
              "#fdca26"
             ],
             [
              1,
              "#f0f921"
             ]
            ],
            "type": "histogram2d"
           }
          ],
          "histogram2dcontour": [
           {
            "colorbar": {
             "outlinewidth": 0,
             "ticks": ""
            },
            "colorscale": [
             [
              0,
              "#0d0887"
             ],
             [
              0.1111111111111111,
              "#46039f"
             ],
             [
              0.2222222222222222,
              "#7201a8"
             ],
             [
              0.3333333333333333,
              "#9c179e"
             ],
             [
              0.4444444444444444,
              "#bd3786"
             ],
             [
              0.5555555555555556,
              "#d8576b"
             ],
             [
              0.6666666666666666,
              "#ed7953"
             ],
             [
              0.7777777777777778,
              "#fb9f3a"
             ],
             [
              0.8888888888888888,
              "#fdca26"
             ],
             [
              1,
              "#f0f921"
             ]
            ],
            "type": "histogram2dcontour"
           }
          ],
          "mesh3d": [
           {
            "colorbar": {
             "outlinewidth": 0,
             "ticks": ""
            },
            "type": "mesh3d"
           }
          ],
          "parcoords": [
           {
            "line": {
             "colorbar": {
              "outlinewidth": 0,
              "ticks": ""
             }
            },
            "type": "parcoords"
           }
          ],
          "scatter": [
           {
            "marker": {
             "colorbar": {
              "outlinewidth": 0,
              "ticks": ""
             }
            },
            "type": "scatter"
           }
          ],
          "scatter3d": [
           {
            "line": {
             "colorbar": {
              "outlinewidth": 0,
              "ticks": ""
             }
            },
            "marker": {
             "colorbar": {
              "outlinewidth": 0,
              "ticks": ""
             }
            },
            "type": "scatter3d"
           }
          ],
          "scattercarpet": [
           {
            "marker": {
             "colorbar": {
              "outlinewidth": 0,
              "ticks": ""
             }
            },
            "type": "scattercarpet"
           }
          ],
          "scattergeo": [
           {
            "marker": {
             "colorbar": {
              "outlinewidth": 0,
              "ticks": ""
             }
            },
            "type": "scattergeo"
           }
          ],
          "scattergl": [
           {
            "marker": {
             "colorbar": {
              "outlinewidth": 0,
              "ticks": ""
             }
            },
            "type": "scattergl"
           }
          ],
          "scattermapbox": [
           {
            "marker": {
             "colorbar": {
              "outlinewidth": 0,
              "ticks": ""
             }
            },
            "type": "scattermapbox"
           }
          ],
          "scatterpolar": [
           {
            "marker": {
             "colorbar": {
              "outlinewidth": 0,
              "ticks": ""
             }
            },
            "type": "scatterpolar"
           }
          ],
          "scatterpolargl": [
           {
            "marker": {
             "colorbar": {
              "outlinewidth": 0,
              "ticks": ""
             }
            },
            "type": "scatterpolargl"
           }
          ],
          "scatterternary": [
           {
            "marker": {
             "colorbar": {
              "outlinewidth": 0,
              "ticks": ""
             }
            },
            "type": "scatterternary"
           }
          ],
          "surface": [
           {
            "colorbar": {
             "outlinewidth": 0,
             "ticks": ""
            },
            "colorscale": [
             [
              0,
              "#0d0887"
             ],
             [
              0.1111111111111111,
              "#46039f"
             ],
             [
              0.2222222222222222,
              "#7201a8"
             ],
             [
              0.3333333333333333,
              "#9c179e"
             ],
             [
              0.4444444444444444,
              "#bd3786"
             ],
             [
              0.5555555555555556,
              "#d8576b"
             ],
             [
              0.6666666666666666,
              "#ed7953"
             ],
             [
              0.7777777777777778,
              "#fb9f3a"
             ],
             [
              0.8888888888888888,
              "#fdca26"
             ],
             [
              1,
              "#f0f921"
             ]
            ],
            "type": "surface"
           }
          ],
          "table": [
           {
            "cells": {
             "fill": {
              "color": "#EBF0F8"
             },
             "line": {
              "color": "white"
             }
            },
            "header": {
             "fill": {
              "color": "#C8D4E3"
             },
             "line": {
              "color": "white"
             }
            },
            "type": "table"
           }
          ]
         },
         "layout": {
          "annotationdefaults": {
           "arrowcolor": "#2a3f5f",
           "arrowhead": 0,
           "arrowwidth": 1
          },
          "colorscale": {
           "diverging": [
            [
             0,
             "#8e0152"
            ],
            [
             0.1,
             "#c51b7d"
            ],
            [
             0.2,
             "#de77ae"
            ],
            [
             0.3,
             "#f1b6da"
            ],
            [
             0.4,
             "#fde0ef"
            ],
            [
             0.5,
             "#f7f7f7"
            ],
            [
             0.6,
             "#e6f5d0"
            ],
            [
             0.7,
             "#b8e186"
            ],
            [
             0.8,
             "#7fbc41"
            ],
            [
             0.9,
             "#4d9221"
            ],
            [
             1,
             "#276419"
            ]
           ],
           "sequential": [
            [
             0,
             "#0d0887"
            ],
            [
             0.1111111111111111,
             "#46039f"
            ],
            [
             0.2222222222222222,
             "#7201a8"
            ],
            [
             0.3333333333333333,
             "#9c179e"
            ],
            [
             0.4444444444444444,
             "#bd3786"
            ],
            [
             0.5555555555555556,
             "#d8576b"
            ],
            [
             0.6666666666666666,
             "#ed7953"
            ],
            [
             0.7777777777777778,
             "#fb9f3a"
            ],
            [
             0.8888888888888888,
             "#fdca26"
            ],
            [
             1,
             "#f0f921"
            ]
           ],
           "sequentialminus": [
            [
             0,
             "#0d0887"
            ],
            [
             0.1111111111111111,
             "#46039f"
            ],
            [
             0.2222222222222222,
             "#7201a8"
            ],
            [
             0.3333333333333333,
             "#9c179e"
            ],
            [
             0.4444444444444444,
             "#bd3786"
            ],
            [
             0.5555555555555556,
             "#d8576b"
            ],
            [
             0.6666666666666666,
             "#ed7953"
            ],
            [
             0.7777777777777778,
             "#fb9f3a"
            ],
            [
             0.8888888888888888,
             "#fdca26"
            ],
            [
             1,
             "#f0f921"
            ]
           ]
          },
          "colorway": [
           "#636efa",
           "#EF553B",
           "#00cc96",
           "#ab63fa",
           "#FFA15A",
           "#19d3f3",
           "#FF6692",
           "#B6E880",
           "#FF97FF",
           "#FECB52"
          ],
          "font": {
           "color": "#2a3f5f"
          },
          "geo": {
           "bgcolor": "white",
           "lakecolor": "white",
           "landcolor": "#E5ECF6",
           "showlakes": true,
           "showland": true,
           "subunitcolor": "white"
          },
          "hoverlabel": {
           "align": "left"
          },
          "hovermode": "closest",
          "mapbox": {
           "style": "light"
          },
          "paper_bgcolor": "white",
          "plot_bgcolor": "#E5ECF6",
          "polar": {
           "angularaxis": {
            "gridcolor": "white",
            "linecolor": "white",
            "ticks": ""
           },
           "bgcolor": "#E5ECF6",
           "radialaxis": {
            "gridcolor": "white",
            "linecolor": "white",
            "ticks": ""
           }
          },
          "scene": {
           "xaxis": {
            "backgroundcolor": "#E5ECF6",
            "gridcolor": "white",
            "gridwidth": 2,
            "linecolor": "white",
            "showbackground": true,
            "ticks": "",
            "zerolinecolor": "white"
           },
           "yaxis": {
            "backgroundcolor": "#E5ECF6",
            "gridcolor": "white",
            "gridwidth": 2,
            "linecolor": "white",
            "showbackground": true,
            "ticks": "",
            "zerolinecolor": "white"
           },
           "zaxis": {
            "backgroundcolor": "#E5ECF6",
            "gridcolor": "white",
            "gridwidth": 2,
            "linecolor": "white",
            "showbackground": true,
            "ticks": "",
            "zerolinecolor": "white"
           }
          },
          "shapedefaults": {
           "line": {
            "color": "#2a3f5f"
           }
          },
          "ternary": {
           "aaxis": {
            "gridcolor": "white",
            "linecolor": "white",
            "ticks": ""
           },
           "baxis": {
            "gridcolor": "white",
            "linecolor": "white",
            "ticks": ""
           },
           "bgcolor": "#E5ECF6",
           "caxis": {
            "gridcolor": "white",
            "linecolor": "white",
            "ticks": ""
           }
          },
          "title": {
           "x": 0.05
          },
          "xaxis": {
           "automargin": true,
           "gridcolor": "white",
           "linecolor": "white",
           "ticks": "",
           "zerolinecolor": "white",
           "zerolinewidth": 2
          },
          "yaxis": {
           "automargin": true,
           "gridcolor": "white",
           "linecolor": "white",
           "ticks": "",
           "zerolinecolor": "white",
           "zerolinewidth": 2
          }
         }
        },
        "title": {
         "text": "US Shipping cost and profit by State"
        }
       }
      },
      "text/html": [
       "<div>\n",
       "        \n",
       "        \n",
       "            <div id=\"0cefe2bd-3ab0-46c9-89d8-e8a89d371522\" class=\"plotly-graph-div\" style=\"height:525px; width:100%;\"></div>\n",
       "            <script type=\"text/javascript\">\n",
       "                require([\"plotly\"], function(Plotly) {\n",
       "                    window.PLOTLYENV=window.PLOTLYENV || {};\n",
       "                    \n",
       "                if (document.getElementById(\"0cefe2bd-3ab0-46c9-89d8-e8a89d371522\")) {\n",
       "                    Plotly.newPlot(\n",
       "                        '0cefe2bd-3ab0-46c9-89d8-e8a89d371522',\n",
       "                        [{\"colorbar\": {\"title\": {\"text\": \"Total orders\"}}, \"colorscale\": [[0.0, \"rgb(255,245,240)\"], [0.125, \"rgb(254,224,210)\"], [0.25, \"rgb(252,187,161)\"], [0.375, \"rgb(252,146,114)\"], [0.5, \"rgb(251,106,74)\"], [0.625, \"rgb(239,59,44)\"], [0.75, \"rgb(203,24,29)\"], [0.875, \"rgb(165,15,21)\"], [1.0, \"rgb(103,0,13)\"]], \"locationmode\": \"USA-states\", \"locations\": [\"TX\", \"GA\", \"VA\", \"KY\", \"MO\", \"KS\", \"NC\", \"IL\", \"IA\", \"  \", \"TN\", \"NE\", \"IN\", \"OH\", \"MN\", \"MS\", \"MI\", \"OK\", \"AR\", \"WI\", \"AL\", \"PA\", \"SD\", \"FL\", \"CO\", \"NY\", \"CA\", \"LA\", \"WV\", \"MT\", \"ND\", \"SC\", \"ID\", \"WA\", \"OR\", \"NM\", \"UT\", \"WY\", \"AK\", \"MD\", \"NJ\", \"NV\", \"ME\", \"MA\", \"AZ\", \"VT\", \"NH\", \"CT\", \"RI\", \"HI\", \"DE\", \"DC\"], \"text\": [\"order 40913<br>average shipping cost 1270.73<br>average net profit -257.39\", \"order 25303<br>average shipping cost 1271.11<br>average net profit -254.08\", \"order 21812<br>average shipping cost 1282.16<br>average net profit -257.15\", \"order 19090<br>average shipping cost 1273.33<br>average net profit -257.35\", \"order 17301<br>average shipping cost 1273.01<br>average net profit -262.13\", \"order 16708<br>average shipping cost 1267.59<br>average net profit -244.76\", \"order 16221<br>average shipping cost 1271.39<br>average net profit -251.71\", \"order 16041<br>average shipping cost 1276.88<br>average net profit -255.65\", \"order 15608<br>average shipping cost 1276.67<br>average net profit -254.91\", \"order 15505<br>average shipping cost 1267.03<br>average net profit -253.48\", \"order 15253<br>average shipping cost 1277.26<br>average net profit -266.82\", \"order 14824<br>average shipping cost 1281.9<br>average net profit -246.06\", \"order 14483<br>average shipping cost 1269.37<br>average net profit -260.26\", \"order 13926<br>average shipping cost 1277.24<br>average net profit -259.6\", \"order 13703<br>average shipping cost 1283.61<br>average net profit -261.6\", \"order 13357<br>average shipping cost 1267.92<br>average net profit -260.37\", \"order 12945<br>average shipping cost 1274.15<br>average net profit -250.2\", \"order 12317<br>average shipping cost 1278.25<br>average net profit -250.76\", \"order 11703<br>average shipping cost 1278.21<br>average net profit -257.33\", \"order 11219<br>average shipping cost 1265.71<br>average net profit -253.65\", \"order 10546<br>average shipping cost 1278.65<br>average net profit -265.36\", \"order 10537<br>average shipping cost 1278.44<br>average net profit -262.76\", \"order 10379<br>average shipping cost 1282.12<br>average net profit -265.09\", \"order 10329<br>average shipping cost 1276.86<br>average net profit -244.25\", \"order 9938<br>average shipping cost 1283.59<br>average net profit -258.83\", \"order 9688<br>average shipping cost 1278.73<br>average net profit -269.03\", \"order 9225<br>average shipping cost 1273.16<br>average net profit -264.18\", \"order 8777<br>average shipping cost 1264.16<br>average net profit -260.13\", \"order 8771<br>average shipping cost 1279.65<br>average net profit -258.85\", \"order 8720<br>average shipping cost 1277.9<br>average net profit -250.89\", \"order 8492<br>average shipping cost 1273.63<br>average net profit -244.6\", \"order 7279<br>average shipping cost 1274.8<br>average net profit -259.33\", \"order 6938<br>average shipping cost 1268.95<br>average net profit -259.93\", \"order 6221<br>average shipping cost 1272.52<br>average net profit -256.07\", \"order 5657<br>average shipping cost 1284.01<br>average net profit -254.29\", \"order 5219<br>average shipping cost 1280.12<br>average net profit -245.12\", \"order 4670<br>average shipping cost 1278.88<br>average net profit -261.89\", \"order 3764<br>average shipping cost 1279.9<br>average net profit -254.06\", \"order 3602<br>average shipping cost 1278.1<br>average net profit -268.63\", \"order 3572<br>average shipping cost 1286.23<br>average net profit -272.72\", \"order 3334<br>average shipping cost 1274.68<br>average net profit -251.76\", \"order 2816<br>average shipping cost 1285.95<br>average net profit -260.05\", \"order 2578<br>average shipping cost 1263.71<br>average net profit -318.11\", \"order 2261<br>average shipping cost 1276.14<br>average net profit -242.9\", \"order 2247<br>average shipping cost 1278.79<br>average net profit -265.1\", \"order 2158<br>average shipping cost 1294.32<br>average net profit -243.83\", \"order 1605<br>average shipping cost 1280.16<br>average net profit -281.74\", \"order 1283<br>average shipping cost 1266.55<br>average net profit -258.24\", \"order 847<br>average shipping cost 1246.14<br>average net profit -244.32\", \"order 666<br>average shipping cost 1265.22<br>average net profit -313.44\", \"order 484<br>average shipping cost 1277.93<br>average net profit -323.78\", \"order 170<br>average shipping cost 1342.21<br>average net profit -208.39\"], \"type\": \"choropleth\", \"z\": [40913.0, 25303.0, 21812.0, 19090.0, 17301.0, 16708.0, 16221.0, 16041.0, 15608.0, 15505.0, 15253.0, 14824.0, 14483.0, 13926.0, 13703.0, 13357.0, 12945.0, 12317.0, 11703.0, 11219.0, 10546.0, 10537.0, 10379.0, 10329.0, 9938.0, 9688.0, 9225.0, 8777.0, 8771.0, 8720.0, 8492.0, 7279.0, 6938.0, 6221.0, 5657.0, 5219.0, 4670.0, 3764.0, 3602.0, 3572.0, 3334.0, 2816.0, 2578.0, 2261.0, 2247.0, 2158.0, 1605.0, 1283.0, 847.0, 666.0, 484.0, 170.0]}],\n",
       "                        {\"geo\": {\"scope\": \"usa\"}, \"template\": {\"data\": {\"bar\": [{\"error_x\": {\"color\": \"#2a3f5f\"}, \"error_y\": {\"color\": \"#2a3f5f\"}, \"marker\": {\"line\": {\"color\": \"#E5ECF6\", \"width\": 0.5}}, \"type\": \"bar\"}], \"barpolar\": [{\"marker\": {\"line\": {\"color\": \"#E5ECF6\", \"width\": 0.5}}, \"type\": \"barpolar\"}], \"carpet\": [{\"aaxis\": {\"endlinecolor\": \"#2a3f5f\", \"gridcolor\": \"white\", \"linecolor\": \"white\", \"minorgridcolor\": \"white\", \"startlinecolor\": \"#2a3f5f\"}, \"baxis\": {\"endlinecolor\": \"#2a3f5f\", \"gridcolor\": \"white\", \"linecolor\": \"white\", \"minorgridcolor\": \"white\", \"startlinecolor\": \"#2a3f5f\"}, \"type\": \"carpet\"}], \"choropleth\": [{\"colorbar\": {\"outlinewidth\": 0, \"ticks\": \"\"}, \"type\": \"choropleth\"}], \"contour\": [{\"colorbar\": {\"outlinewidth\": 0, \"ticks\": \"\"}, \"colorscale\": [[0.0, \"#0d0887\"], [0.1111111111111111, \"#46039f\"], [0.2222222222222222, \"#7201a8\"], [0.3333333333333333, \"#9c179e\"], [0.4444444444444444, \"#bd3786\"], [0.5555555555555556, \"#d8576b\"], [0.6666666666666666, \"#ed7953\"], [0.7777777777777778, \"#fb9f3a\"], [0.8888888888888888, \"#fdca26\"], [1.0, \"#f0f921\"]], \"type\": \"contour\"}], \"contourcarpet\": [{\"colorbar\": {\"outlinewidth\": 0, \"ticks\": \"\"}, \"type\": \"contourcarpet\"}], \"heatmap\": [{\"colorbar\": {\"outlinewidth\": 0, \"ticks\": \"\"}, \"colorscale\": [[0.0, \"#0d0887\"], [0.1111111111111111, \"#46039f\"], [0.2222222222222222, \"#7201a8\"], [0.3333333333333333, \"#9c179e\"], [0.4444444444444444, \"#bd3786\"], [0.5555555555555556, \"#d8576b\"], [0.6666666666666666, \"#ed7953\"], [0.7777777777777778, \"#fb9f3a\"], [0.8888888888888888, \"#fdca26\"], [1.0, \"#f0f921\"]], \"type\": \"heatmap\"}], \"heatmapgl\": [{\"colorbar\": {\"outlinewidth\": 0, \"ticks\": \"\"}, \"colorscale\": [[0.0, \"#0d0887\"], [0.1111111111111111, \"#46039f\"], [0.2222222222222222, \"#7201a8\"], [0.3333333333333333, \"#9c179e\"], [0.4444444444444444, \"#bd3786\"], [0.5555555555555556, \"#d8576b\"], [0.6666666666666666, \"#ed7953\"], [0.7777777777777778, \"#fb9f3a\"], [0.8888888888888888, \"#fdca26\"], [1.0, \"#f0f921\"]], \"type\": \"heatmapgl\"}], \"histogram\": [{\"marker\": {\"colorbar\": {\"outlinewidth\": 0, \"ticks\": \"\"}}, \"type\": \"histogram\"}], \"histogram2d\": [{\"colorbar\": {\"outlinewidth\": 0, \"ticks\": \"\"}, \"colorscale\": [[0.0, \"#0d0887\"], [0.1111111111111111, \"#46039f\"], [0.2222222222222222, \"#7201a8\"], [0.3333333333333333, \"#9c179e\"], [0.4444444444444444, \"#bd3786\"], [0.5555555555555556, \"#d8576b\"], [0.6666666666666666, \"#ed7953\"], [0.7777777777777778, \"#fb9f3a\"], [0.8888888888888888, \"#fdca26\"], [1.0, \"#f0f921\"]], \"type\": \"histogram2d\"}], \"histogram2dcontour\": [{\"colorbar\": {\"outlinewidth\": 0, \"ticks\": \"\"}, \"colorscale\": [[0.0, \"#0d0887\"], [0.1111111111111111, \"#46039f\"], [0.2222222222222222, \"#7201a8\"], [0.3333333333333333, \"#9c179e\"], [0.4444444444444444, \"#bd3786\"], [0.5555555555555556, \"#d8576b\"], [0.6666666666666666, \"#ed7953\"], [0.7777777777777778, \"#fb9f3a\"], [0.8888888888888888, \"#fdca26\"], [1.0, \"#f0f921\"]], \"type\": \"histogram2dcontour\"}], \"mesh3d\": [{\"colorbar\": {\"outlinewidth\": 0, \"ticks\": \"\"}, \"type\": \"mesh3d\"}], \"parcoords\": [{\"line\": {\"colorbar\": {\"outlinewidth\": 0, \"ticks\": \"\"}}, \"type\": \"parcoords\"}], \"scatter\": [{\"marker\": {\"colorbar\": {\"outlinewidth\": 0, \"ticks\": \"\"}}, \"type\": \"scatter\"}], \"scatter3d\": [{\"line\": {\"colorbar\": {\"outlinewidth\": 0, \"ticks\": \"\"}}, \"marker\": {\"colorbar\": {\"outlinewidth\": 0, \"ticks\": \"\"}}, \"type\": \"scatter3d\"}], \"scattercarpet\": [{\"marker\": {\"colorbar\": {\"outlinewidth\": 0, \"ticks\": \"\"}}, \"type\": \"scattercarpet\"}], \"scattergeo\": [{\"marker\": {\"colorbar\": {\"outlinewidth\": 0, \"ticks\": \"\"}}, \"type\": \"scattergeo\"}], \"scattergl\": [{\"marker\": {\"colorbar\": {\"outlinewidth\": 0, \"ticks\": \"\"}}, \"type\": \"scattergl\"}], \"scattermapbox\": [{\"marker\": {\"colorbar\": {\"outlinewidth\": 0, \"ticks\": \"\"}}, \"type\": \"scattermapbox\"}], \"scatterpolar\": [{\"marker\": {\"colorbar\": {\"outlinewidth\": 0, \"ticks\": \"\"}}, \"type\": \"scatterpolar\"}], \"scatterpolargl\": [{\"marker\": {\"colorbar\": {\"outlinewidth\": 0, \"ticks\": \"\"}}, \"type\": \"scatterpolargl\"}], \"scatterternary\": [{\"marker\": {\"colorbar\": {\"outlinewidth\": 0, \"ticks\": \"\"}}, \"type\": \"scatterternary\"}], \"surface\": [{\"colorbar\": {\"outlinewidth\": 0, \"ticks\": \"\"}, \"colorscale\": [[0.0, \"#0d0887\"], [0.1111111111111111, \"#46039f\"], [0.2222222222222222, \"#7201a8\"], [0.3333333333333333, \"#9c179e\"], [0.4444444444444444, \"#bd3786\"], [0.5555555555555556, \"#d8576b\"], [0.6666666666666666, \"#ed7953\"], [0.7777777777777778, \"#fb9f3a\"], [0.8888888888888888, \"#fdca26\"], [1.0, \"#f0f921\"]], \"type\": \"surface\"}], \"table\": [{\"cells\": {\"fill\": {\"color\": \"#EBF0F8\"}, \"line\": {\"color\": \"white\"}}, \"header\": {\"fill\": {\"color\": \"#C8D4E3\"}, \"line\": {\"color\": \"white\"}}, \"type\": \"table\"}]}, \"layout\": {\"annotationdefaults\": {\"arrowcolor\": \"#2a3f5f\", \"arrowhead\": 0, \"arrowwidth\": 1}, \"colorscale\": {\"diverging\": [[0, \"#8e0152\"], [0.1, \"#c51b7d\"], [0.2, \"#de77ae\"], [0.3, \"#f1b6da\"], [0.4, \"#fde0ef\"], [0.5, \"#f7f7f7\"], [0.6, \"#e6f5d0\"], [0.7, \"#b8e186\"], [0.8, \"#7fbc41\"], [0.9, \"#4d9221\"], [1, \"#276419\"]], \"sequential\": [[0.0, \"#0d0887\"], [0.1111111111111111, \"#46039f\"], [0.2222222222222222, \"#7201a8\"], [0.3333333333333333, \"#9c179e\"], [0.4444444444444444, \"#bd3786\"], [0.5555555555555556, \"#d8576b\"], [0.6666666666666666, \"#ed7953\"], [0.7777777777777778, \"#fb9f3a\"], [0.8888888888888888, \"#fdca26\"], [1.0, \"#f0f921\"]], \"sequentialminus\": [[0.0, \"#0d0887\"], [0.1111111111111111, \"#46039f\"], [0.2222222222222222, \"#7201a8\"], [0.3333333333333333, \"#9c179e\"], [0.4444444444444444, \"#bd3786\"], [0.5555555555555556, \"#d8576b\"], [0.6666666666666666, \"#ed7953\"], [0.7777777777777778, \"#fb9f3a\"], [0.8888888888888888, \"#fdca26\"], [1.0, \"#f0f921\"]]}, \"colorway\": [\"#636efa\", \"#EF553B\", \"#00cc96\", \"#ab63fa\", \"#FFA15A\", \"#19d3f3\", \"#FF6692\", \"#B6E880\", \"#FF97FF\", \"#FECB52\"], \"font\": {\"color\": \"#2a3f5f\"}, \"geo\": {\"bgcolor\": \"white\", \"lakecolor\": \"white\", \"landcolor\": \"#E5ECF6\", \"showlakes\": true, \"showland\": true, \"subunitcolor\": \"white\"}, \"hoverlabel\": {\"align\": \"left\"}, \"hovermode\": \"closest\", \"mapbox\": {\"style\": \"light\"}, \"paper_bgcolor\": \"white\", \"plot_bgcolor\": \"#E5ECF6\", \"polar\": {\"angularaxis\": {\"gridcolor\": \"white\", \"linecolor\": \"white\", \"ticks\": \"\"}, \"bgcolor\": \"#E5ECF6\", \"radialaxis\": {\"gridcolor\": \"white\", \"linecolor\": \"white\", \"ticks\": \"\"}}, \"scene\": {\"xaxis\": {\"backgroundcolor\": \"#E5ECF6\", \"gridcolor\": \"white\", \"gridwidth\": 2, \"linecolor\": \"white\", \"showbackground\": true, \"ticks\": \"\", \"zerolinecolor\": \"white\"}, \"yaxis\": {\"backgroundcolor\": \"#E5ECF6\", \"gridcolor\": \"white\", \"gridwidth\": 2, \"linecolor\": \"white\", \"showbackground\": true, \"ticks\": \"\", \"zerolinecolor\": \"white\"}, \"zaxis\": {\"backgroundcolor\": \"#E5ECF6\", \"gridcolor\": \"white\", \"gridwidth\": 2, \"linecolor\": \"white\", \"showbackground\": true, \"ticks\": \"\", \"zerolinecolor\": \"white\"}}, \"shapedefaults\": {\"line\": {\"color\": \"#2a3f5f\"}}, \"ternary\": {\"aaxis\": {\"gridcolor\": \"white\", \"linecolor\": \"white\", \"ticks\": \"\"}, \"baxis\": {\"gridcolor\": \"white\", \"linecolor\": \"white\", \"ticks\": \"\"}, \"bgcolor\": \"#E5ECF6\", \"caxis\": {\"gridcolor\": \"white\", \"linecolor\": \"white\", \"ticks\": \"\"}}, \"title\": {\"x\": 0.05}, \"xaxis\": {\"automargin\": true, \"gridcolor\": \"white\", \"linecolor\": \"white\", \"ticks\": \"\", \"zerolinecolor\": \"white\", \"zerolinewidth\": 2}, \"yaxis\": {\"automargin\": true, \"gridcolor\": \"white\", \"linecolor\": \"white\", \"ticks\": \"\", \"zerolinecolor\": \"white\", \"zerolinewidth\": 2}}}, \"title\": {\"text\": \"US Shipping cost and profit by State\"}},\n",
       "                        {\"responsive\": true}\n",
       "                    ).then(function(){\n",
       "                            \n",
       "var gd = document.getElementById('0cefe2bd-3ab0-46c9-89d8-e8a89d371522');\n",
       "var x = new MutationObserver(function (mutations, observer) {{\n",
       "        var display = window.getComputedStyle(gd).display;\n",
       "        if (!display || display === 'none') {{\n",
       "            console.log([gd, 'removed!']);\n",
       "            Plotly.purge(gd);\n",
       "            observer.disconnect();\n",
       "        }}\n",
       "}});\n",
       "\n",
       "// Listen for the removal of the full notebook cells\n",
       "var notebookContainer = gd.closest('#notebook-container');\n",
       "if (notebookContainer) {{\n",
       "    x.observe(notebookContainer, {childList: true});\n",
       "}}\n",
       "\n",
       "// Listen for the clearing of the current output cell\n",
       "var outputEl = gd.closest('.output');\n",
       "if (outputEl) {{\n",
       "    x.observe(outputEl, {childList: true});\n",
       "}}\n",
       "\n",
       "                        })\n",
       "                };\n",
       "                });\n",
       "            </script>\n",
       "        </div>"
      ]
     },
     "metadata": {},
     "output_type": "display_data"
    }
   ],
   "source": [
    "# Valid year range 1998-2002\n",
    "query_stmt = query_stmt.replace('\\n', ' ').replace('\\r', '')\n",
    "df = exec_query(conn, query_stmt)\n",
    "\n",
    "# convert everything to string for display purpose\n",
    "for col in df.columns: \n",
    "    df[col] = df[col].astype(str)\n",
    "\n",
    "df['text'] = 'order ' + df['order_count'] + '<br>' + \\\n",
    "            'average shipping cost ' + df['avg_shipping_cost'] + '<br>' + \\\n",
    "            'average net profit ' + df['avg_net_profit']\n",
    "\n",
    "fig = go.Figure(data=go.Choropleth(\n",
    "    locations=df['ca_state'], # Spatial coordinates\n",
    "    z = df['order_count'].astype(float), # Data to be color-coded\n",
    "    locationmode = 'USA-states', # set of locations match entries in `locations`\n",
    "    text = df['text'],\n",
    "    colorscale = 'Reds',\n",
    "    colorbar_title = \"Total orders\",\n",
    "))\n",
    "\n",
    "fig.update_layout(\n",
    "    title_text = 'US Shipping cost and profit by State',\n",
    "    geo_scope='usa', # limite map scope to USA\n",
    ")\n",
    "\n",
    "fig.show()"
   ]
  },
  {
   "cell_type": "code",
   "execution_count": null,
   "metadata": {},
   "outputs": [],
   "source": []
  }
 ],
 "metadata": {
  "kernelspec": {
   "display_name": "Python 3",
   "language": "python",
   "name": "python3"
  },
  "language_info": {
   "codemirror_mode": {
    "name": "ipython",
    "version": 3
   },
   "file_extension": ".py",
   "mimetype": "text/x-python",
   "name": "python",
   "nbconvert_exporter": "python",
   "pygments_lexer": "ipython3",
   "version": "3.7.0"
  }
 },
 "nbformat": 4,
 "nbformat_minor": 4
}
