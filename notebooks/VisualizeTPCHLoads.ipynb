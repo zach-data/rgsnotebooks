import asyncio
import asyncpg
import nest_asyncio

nest_asyncio.apply()

class AsyncPostgreSQLManager(object):
    POSTGRES_DSN = 'postgres://postgres@0.0.0.0:5432/postgres?application_name=connection_pool'

    async def fetch(self, sql):
        async with self.pool.acquire() as connection:
            # Open a transaction.
            async with connection.transaction():
                result = await connection.fetch('sql')
                return result

#        await self.pool.fetch(sql)

    async def execute(self, sql):
        await self.pool.execute(sql)

    async def truncate(self, table, cascade=False):
        TRUNCATE_SQL = f"TRUNCATE {table} {'CASCADE' if cascade else ''};"
        try:
            await self.execute(TRUNCATE_SQL)
        except asyncpg.exceptions.UndefinedTableError:
            pass

    async def make_pool(self):
        self.pool = await asyncpg.create_pool(self.POSTGRES_DSN)


class Context(object):
    NOTEBOOK = 'VisualizeTPCHLoad.ipynb'
    POSTGRES_DSN = 'postgres://postgres@0.0.0.0:5432/postgres?application_name=connection_pool'

    async def _init(self):
        self.postgres = await self.manage_postgres()

    async def manage_postgres(self):
        postgres = AsyncPostgreSQLManager()
        await postgres._init(self)
        return postgres

# context = Context()
postgres = AsyncPostgreSQLManager()
await postgres.make_pool()


#await context.manage_postgres()
# await context._init()

#context.postgres = await context.manage_postgres()



#### BOKEH GANTT

from bokeh.plotting import figure, show, output_notebook
from bokeh.models.sources import ColumnDataSource
from bokeh.models import Range1d
from bokeh.models.tools import HoverTool
from datetime import datetime
# from bokeh.charts import Bar
output_notebook()
import pandas as pd


DF=pd.DataFrame(columns=['Item','Start','End','Color'])
Items=[
    ['Contract Review & Award','2015-7-22','2015-8-7','red'],
    ['Submit SOW','2015-8-10','2015-8-14','gray'],
    ['Initial Field Study','2015-8-17','2015-8-21','gray'],
    ['Topographic Procesing','2015-9-1','2016-6-1','gray'],
    ['Init. Hydrodynamic Modeling','2016-1-2','2016-3-15','gray'],
    ['Prepare Suitability Curves','2016-2-1','2016-3-1','gray'],
    ['Improvement Conceptual Designs','2016-5-1','2016-6-1','gray'],
    ['Retrieve Water Level Data','2016-8-15','2016-9-15','gray'],
    ['Finalize Hydrodynamic Models','2016-9-15','2016-10-15','gray'],
    ['Determine Passability','2016-9-15','2016-10-1','gray'],
    ['Finalize Improvement Concepts','2016-10-1','2016-10-31','gray'],
    ['Stakeholder Meeting','2016-10-20','2016-10-21','blue'],
    ['Completion of Project','2016-11-1','2016-11-30','red']
    ] #first items on bottom

for i,Dat in enumerate(Items[::-1]):
    DF.loc[i]=Dat

#convert strings to datetime fields:
DF['Start_dt']=pd.to_datetime(DF.Start)
DF['End_dt']=pd.to_datetime(DF.End)




G=figure(title='Project Schedule',x_axis_type='datetime',width=800,height=400,y_range=DF.Item.tolist(),
        x_range=Range1d(DF.Start_dt.min(),DF.End_dt.max()), tools='save')

hover=HoverTool(tooltips="Task: @Item<br>Start: @Start<br>End: @End")
G.add_tools(hover)

DF['ID']=DF.index+0.8
DF['ID1']=DF.index+1.2

print(type(DF))
# https://github.com/bokeh/bokeh/issues/2581
DF.head()
CDS = ColumnDataSource(ColumnDataSource.from_df(DF))
#CDS=ColumnDataSource(DF)
#CDS = ColumnDataSource(DF)
G.quad(left='Start_dt', right='End_dt', bottom='ID', top='ID1',source=CDS,color="Color")

show(G)
