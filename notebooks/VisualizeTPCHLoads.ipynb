import asyncio
import asyncpg
import nest_asyncio

nest_asyncio.apply()

class AsyncPostgreSQLManager(object):
    POSTGRES_DSN = 'postgres://postgres@0.0.0.0:5432/postgres?application_name=connection_pool'

    async def fetch(self, sql):
        async with self.pool.acquire() as connection:
            # Open a transaction.
            async with connection.transaction():
                result = await connection.fetch('sql')
                return result

#        await self.pool.fetch(sql)

    async def execute(self, sql):
        await self.pool.execute(sql)

    async def truncate(self, table, cascade=False):
        TRUNCATE_SQL = f"TRUNCATE {table} {'CASCADE' if cascade else ''};"
        try:
            await self.execute(TRUNCATE_SQL)
        except asyncpg.exceptions.UndefinedTableError:
            pass

    async def make_pool(self):
        self.pool = await asyncpg.create_pool(self.POSTGRES_DSN)


class Context(object):
    NOTEBOOK = 'VisualizeTPCHLoad.ipynb'
    POSTGRES_DSN = 'postgres://postgres@0.0.0.0:5432/postgres?application_name=connection_pool'

    async def _init(self):
        self.postgres = await self.manage_postgres()

    async def manage_postgres(self):
        postgres = AsyncPostgreSQLManager()
        await postgres._init(self)
        return postgres

# context = Context()
postgres = AsyncPostgreSQLManager()
await postgres.make_pool()


#await context.manage_postgres()
# await context._init()

#context.postgres = await context.manage_postgres()
