{
 "cells": [
  {
   "cell_type": "code",
   "execution_count": null,
   "metadata": {},
   "outputs": [],
   "source": [
    "from IPython.display import clear_output\n",
    "import os\n",
    "!git -C /home/ec2-user/SageMaker/burgos pull\n",
    "!/home/ec2-user/SageMaker/rgs/miniconda/envs/rgsutils/bin/pip install -e /home/ec2-user/SageMaker/burgos --upgrade\n",
    "clear_output()\n",
    "os._exit(00)"
   ]
  },
  {
   "cell_type": "code",
   "execution_count": null,
   "metadata": {},
   "outputs": [],
   "source": [
    "from burgos.apps.task_manager import TaskManager\n",
    "from bokeh.io import push_notebook, show, output_notebook\n",
    "from bokeh.plotting import figure\n",
    "from bokeh.models import ColumnDataSource\n",
    "import json\n",
    "\n",
    "output_notebook(hide_banner=True)\n",
    "\n",
    "data = dict(\n",
    "    x=[0], \n",
    "    y=[0]\n",
    ")\n",
    "source = ColumnDataSource(data=data)\n",
    "plot = figure(plot_width=400, plot_height=400)\n",
    "line = plot.line(x='x', y='y', source=source, line_width=2)\n",
    "handle = show(plot, notebook_handle=True)\n",
    "\n",
    "def add_point(*args):\n",
    "    payload = json.loads(args[3])\n",
    "    # print(f'payload: {payload}')\n",
    "    new_data = dict(x=[source.data['x'][-1]+1],y=[1])\n",
    "    source.stream(new_data)\n",
    "    push_notebook(handle=handle)\n",
    "\n",
    "await TaskManager(debug=False).setup(on_insert=add_point)"
   ]
  }
 ],
 "metadata": {
  "kernelspec": {
   "display_name": "conda_rgsutils",
   "language": "python",
   "name": "conda_rgsutils"
  },
  "language_info": {
   "codemirror_mode": {
    "name": "ipython",
    "version": 3
   },
   "file_extension": ".py",
   "mimetype": "text/x-python",
   "name": "python",
   "nbconvert_exporter": "python",
   "pygments_lexer": "ipython3",
   "version": "3.7.3"
  }
 },
 "nbformat": 4,
 "nbformat_minor": 4
}
